{
 "cells": [
  {
   "cell_type": "markdown",
   "metadata": {},
   "source": [
    "# Download salonecriture.org website to json"
   ]
  },
  {
   "cell_type": "code",
   "execution_count": 1,
   "metadata": {
    "collapsed": false
   },
   "outputs": [],
   "source": [
    "import cgi\n",
    "import json\n",
    "import requests\n",
    "from bs4 import BeautifulSoup\n",
    "from datetime import datetime\n",
    "import os"
   ]
  },
  {
   "cell_type": "markdown",
   "metadata": {},
   "source": [
    "## 1. Testing:"
   ]
  },
  {
   "cell_type": "code",
   "execution_count": 2,
   "metadata": {
    "collapsed": false
   },
   "outputs": [],
   "source": [
    "html=requests.get('https://www.salonecriture.org/actualités/')\n",
    "soup=BeautifulSoup(html.content, 'html.parser')\n",
    "soup=soup.find('div', attrs={'class': 'jtpl-content__inner content-options cc-content-parent'})"
   ]
  },
  {
   "cell_type": "markdown",
   "metadata": {},
   "source": [
    "### Links"
   ]
  },
  {
   "cell_type": "code",
   "execution_count": 3,
   "metadata": {
    "collapsed": false
   },
   "outputs": [],
   "source": [
    "all_links = []\n",
    "for ref in soup.findAll('a', attrs={'class': 'blogreadmore'}):\n",
    "    all_links.append(ref['href'])"
   ]
  },
  {
   "cell_type": "code",
   "execution_count": 4,
   "metadata": {
    "collapsed": false,
    "scrolled": true
   },
   "outputs": [
    {
     "data": {
      "text/plain": [
       "['/2017/03/02/application-pour-iphone-disponible/',\n",
       " '/2017/02/27/sortie-d-une-application-mobile-android-pour-le-salon/',\n",
       " '/2017/02/12/ghostwriter-écrivain-fantôme-prête-plume-qu-est-ce/',\n",
       " '/2017/01/28/secrétaire-juridique-l-écriture-ce-vecteur-codé-et-procédural/',\n",
       " '/2017/01/25/maître-marc-bonnant-à-l-honneur/',\n",
       " '/2017/01/17/harmonie-keller-matthey-blogueuse-l-écriture-est-un-art-libérateur/',\n",
       " '/2017/01/14/exposition-sur-l-alphabet-a-ka-u-ku/',\n",
       " '/2017/01/11/rédacteur-technique-ou-l-art-de-la-vulgarisation/',\n",
       " '/2017/01/07/qu-est-ce-qu-un-scriptorium/',\n",
       " '/2016/12/20/quels-étaient-les-moyens-de-fabriquer-de-l-encre-noire-au-moyen-âge/',\n",
       " '/2016/12/14/traducteur-de-l-art-de-transposer-sans-dénaturer/',\n",
       " '/2016/12/09/de-la-lettre-manuscrite-au-sms/',\n",
       " '/2016/12/04/quelle-écriture-était-utilisée-et-transmise-exclusivement-par-des-femmes/',\n",
       " '/2016/11/29/papyrologue-éditeur-de-textes-anciens/',\n",
       " '/2016/11/26/qu-est-ce-qu-un-alphabet-consonantique/',\n",
       " '/2016/11/18/quel-est-le-mythe-à-l-origine-de-l-écriture-chinoise/',\n",
       " '/2016/11/15/le-correcteur-au-coeur-des-mots/',\n",
       " '/2016/11/09/que-reste-t-il-des-écrits-gaulois/',\n",
       " '/2016/11/02/l-expertise-en-écritures-différencier-le-vrai-du-faux/',\n",
       " '/2016/10/28/comment-fonctionne-l-alphabet-braille-et-comment-les-aveugles-peuvent-ils-lire-à-l-écran/']"
      ]
     },
     "execution_count": 4,
     "metadata": {},
     "output_type": "execute_result"
    }
   ],
   "source": [
    "all_links"
   ]
  },
  {
   "cell_type": "markdown",
   "metadata": {},
   "source": [
    "### Titles"
   ]
  },
  {
   "cell_type": "code",
   "execution_count": 5,
   "metadata": {
    "collapsed": false
   },
   "outputs": [
    {
     "name": "stdout",
     "output_type": "stream",
     "text": [
      "Application pour iPhone disponible\n",
      "Sortie d'une application mobile (Android) pour le salon\n",
      "Ghostwriter, écrivain fantôme, prête-plume... qu'est-ce?\n",
      "Secrétaire juridique - L'écriture, ce vecteur codé et procédural\n",
      "Maître Marc Bonnant à l'honneur\n",
      "Harmonie Keller Matthey, blogueuse: \"L'écriture est un art libérateur\"\n",
      "Exposition sur l'alphabet a ka u ku\n",
      "Rédacteur technique ou l'art de la vulgarisation\n",
      "Qu'est-ce qu'un scriptorium?\n",
      "Quels étaient les moyens de fabriquer de l'encre noire au Moyen-Âge?\n",
      "Traducteur: de l'art de transposer sans dénaturer\n",
      "De la lettre manuscrite au sms\n",
      "Quelle écriture était utilisée et transmise exclusivement par des femmes?\n",
      "Papyrologue: éditeur de textes anciens\n",
      "Qu'est-ce qu'un alphabet consonantique?\n",
      "Quel est le mythe à l'origine de l'écriture chinoise?\n",
      "Le correcteur au coeur des mots\n",
      "Que reste-t-il des écrits gaulois?\n",
      "L'expertise en écritures: différencier le vrai du faux\n",
      "Comment fonctionne l'alphabet braille et comment les aveugles peuvent-ils lire à l'écran ?\n"
     ]
    }
   ],
   "source": [
    "for title in soup.findAll('h2', attrs={'class': 'j-blog-headline'}):\n",
    "    print(title.text)"
   ]
  },
  {
   "cell_type": "markdown",
   "metadata": {},
   "source": [
    "### Dates"
   ]
  },
  {
   "cell_type": "code",
   "execution_count": 6,
   "metadata": {
    "collapsed": false
   },
   "outputs": [
    {
     "name": "stdout",
     "output_type": "stream",
     "text": [
      " jeu. 02 mars 2017 \n",
      " mar. 28 févr. 2017 \n",
      " dim. 12 févr. 2017 \n",
      " mer. 01 févr. 2017 \n",
      " mer. 25 janv. 2017 \n",
      " mar. 17 janv. 2017 \n",
      " sam. 14 janv. 2017 \n",
      " mer. 11 janv. 2017 \n",
      " sam. 07 janv. 2017 \n",
      " mar. 20 déc. 2016 \n",
      " mer. 14 déc. 2016 \n",
      " ven. 09 déc. 2016 \n",
      " dim. 04 déc. 2016 \n",
      " mar. 29 nov. 2016 \n",
      " sam. 26 nov. 2016 \n",
      " ven. 18 nov. 2016 \n",
      " mar. 15 nov. 2016 \n",
      " mer. 09 nov. 2016 \n",
      " mer. 02 nov. 2016 \n",
      " ven. 28 oct. 2016 \n"
     ]
    }
   ],
   "source": [
    "for date in soup.findAll('time', attrs={'class': 'datetime'}):\n",
    "    print(date.text.replace('\\n', ' '))"
   ]
  },
  {
   "cell_type": "markdown",
   "metadata": {
    "collapsed": true
   },
   "source": [
    "### Summary"
   ]
  },
  {
   "cell_type": "code",
   "execution_count": 7,
   "metadata": {
    "collapsed": false
   },
   "outputs": [
    {
     "name": "stdout",
     "output_type": "stream",
     "text": [
      "Dès maintenant, vous pouvez télécharger l'application mobile du Salon International de l'Écriture pour iPhone.\n",
      "\n",
      " Vous y trouverez les informations concernant le programme du Salon, les actualités et les informations pratiques. N'hésitez pas à la télécharger pour avoir partout avec vous le programme!\n",
      "-----------------------------\n",
      "Dès aujourd'hui vous trouverez le programme des activités du Salon sur notre toute nouvelle application développée par Daniel Guggenheim, étudiant en informatique à l'EPFL.\n",
      "\n",
      "  \n",
      "\n",
      " Cette application permet aux visiteurs du Salon International de l’Écriture :\n",
      "\n",
      "\n",
      "D’avoir sur soi en permanence le programme des différentes activités, conférences, ateliers, expositions et animations du Salon les 3 et 4 mars 2017. Les changements éventuels de dernière minute seront signalés par le biais d’une alerte en haut de l’onglet du programme. \n",
      "D’obtenir des informations pratiques concernant notamment les horaires du Salon et l’accès aux sites. \n",
      "D’être tenu au courant tout au long de l’année des différentes actualités du Salon. \n",
      "\n",
      " Cette application est disponible pour Android avec le lien suivant : \n",
      "\n",
      "  \n",
      "\n",
      "\n",
      "\n",
      "\n",
      "  \n",
      "-----------------------------\n",
      "D'aucuns, ardents défenseurs de la langue française et de ses subtilités, se sont offusqués de l'utilisation du terme ghostwriting dans l'intitulé de nos débats, arguant notamment que celui-ci était incompréhensible pour la plupart des gens, sous-entendu francophones. Cela dit, je ne suis pas certaine que les termes écrivain à gage... \n",
      "-----------------------------\n",
      "Impossible pour elle de s’adresser à sa fiduciaire ou à sa gérance immobilière sans y mettre les formes. Ses courriers sont toujours soignés et habilement rédigés. « Déformation professionnelle », sourit Coralie Bovet. A 29 ans, la Vaudoise a derrière elle près de 10 ans d’expérience en qualité de secrétaire juridique. Et forcément, ça laisse des traces.\n",
      "-----------------------------\n",
      "Notre équipe est à pied d'oeuvre et notre comité se réunit à un rythme de plus en plus soutenu pour régler les derniers détails d'organisation... et puis aussi les imprévus. Un peu de stress, certes, mais aussi beaucoup de plaisir... Certains auront déjà remarqué...\n",
      "-----------------------------\n",
      "J’ai découvert Instagram en septembre 2014. J’avais bien évidemment déjà entendu parler de cette plateforme avant cela, mais n’avais jamais pris le temps de m’y intéresser. Pour résumer, Instagram est un réseau social sur lequel les membres postent leur quotidien sous forme de photo.Voyages, famille, paysages, mode, restau… tout y est publié.\n",
      "-----------------------------\n",
      "Pour sa première édition, le Salon International de l’Ecriture aura le plaisir de présenter une exposition sur l’alphabet inventé en 1895 par le roi Ibrahim Njoya, sultan du Royaume Bamoun au Cameroun.\n",
      "-----------------------------\n",
      "\"Ce que tu fais ne sert à rien, personne ne lit jamais le manuel d'instruction de toute manière!\"  Voilà une phrase que tout rédacteur technique a probablement au moins entendu une fois dans sa carrière.\n",
      "-----------------------------\n",
      "Au Moyen-Âge, les monastères les plus grands comptaient souvent un scriptorium ou atelier d'écriture entre leurs murs. On se souvient du magnifique scriptorium dans le film \"Le Nom de la Rose\". Les scriptoria étaient donc des lieux attenants aux bibliothèques dans lesquels les scribes ou les moines recopiaient, ...\n",
      "-----------------------------\n",
      "Il existait au Moyen-Âge trois types d'encre noire et de nombreuses recettes ont été transmises. L'une était à la base de noir de fumée ou d'autres éléments carbonés (suie par exemple) et d'un liant (notamment gomme arabique). La seconde était à base de produit tannant, tel que noix de galles ou écorces de chêne, d'un liant et d'un sel métallique.\n",
      "-----------------------------\n",
      "Elle aime l’autonomie, la rigueur de la langue française, la précision des mots et la diversité des sujets. Sandhya Dennis a trouvé tout cela dans son métier de traductrice. Après une première expérience professionnelle peu convaincante dans le milieu des études de marchés...\n",
      "-----------------------------\n",
      "Pour le premier Salon International de l’écriture, la Fondation Martin Bodmer propose un parcours sur le thème de la correspondance, avec pour perspective l’évolution de l’écrit et de ses supports, du manuscrit au numérique.\n",
      "-----------------------------\n",
      "Nul ne sait exactement ni quand ni comment est apparue l'écriture Nüshu, pratiquée dans le comté de Jiangyong, au Sud de la Chine. Ce qu'il y a de certain, c'est qu'elle n'était utilisée et lue que par les femmes. Et pour cause, les hommes considéraient ce système d'écriture...\n",
      "-----------------------------\n",
      "« – Papyrologue ? Oh c’est joli, ça fait papillon ! Tu travailles sur les papiers russes, c’est ça? \n",
      "\n",
      " – Noooooon, les papyrus ! Les papyrus d’Egypte, le papier de l’époque, comme il y a eu par la suite le parchemin.\n",
      "-----------------------------\n",
      "Les alphabets consonantiques sont ceux qui ne notent que les consonnes et ne comportent donc aucune voyelle. C'est le cas par exemple des alphabets phénicien, araméen, hébreu et arabe. Ces alphabets ne notent donc pas la prononciation.\n",
      "-----------------------------\n",
      "L'inventeur des caractères chinois serait Tsang-Kié ou l'homme aux quatre yeux, qui, selon la légende, était notamment le devin de l'empereur jaune au troisième millénaire avant notre ère. Il se serait inspiré des traces...\n",
      "-----------------------------\n",
      "Le correcteur occupe une fonction d’intermédiaire, comme l’éditeur, entre l’auteur et le lecteur, au croisement de la ponctuation, de l’orthographe et du sens. Censeur à bannir pour les uns, qui lui dénient toute créativité, ... \n",
      "-----------------------------\n",
      "Il y avait quelque part au coeur de la Gaule occupée par les Romains en 50 av. J.-C, un petit village de Gaulois résistant aux légions romaines... Tout le monde connaît les aventures d'Astérix... mais ces fameux Gaulois étaient-ils des adeptes de l'écriture? Que sait-on...\n",
      "-----------------------------\n",
      "L'expertise des écritures vise à déterminer si des mentions ou des textes manuscrits sont de la même main. Elle se base sur un travail comparatif de différents documents. Confondue souvent avec la graphologie, elle...\n",
      "-----------------------------\n",
      "L'alphabet braille se base sur un système de points en relief qui permet aux aveugles de lire. Il a été inventé aux alentours de 1825 par Louis Braille, devenu aveugle dans sa prime enfance, alors qu'il n'avait que 16 ans. Cet alphabet a dû être adapté à l'informatique.\n",
      "-----------------------------\n"
     ]
    }
   ],
   "source": [
    "for summary in soup.findAll('div', attrs={'class':'j-module n j-text '}):\n",
    "    txt2 = summary.text.replace(\"\\n   \", \"\")\n",
    "    txt3 = txt2[1:len(txt2)-1]\n",
    "    print(txt3)\n",
    "    print('-----------------------------')"
   ]
  },
  {
   "cell_type": "markdown",
   "metadata": {
    "collapsed": true
   },
   "source": [
    "## 2. Retrieve all articles\n",
    "With the article, 2 json will be generated: 1 with the information about the article, the other with the content of the article."
   ]
  },
  {
   "cell_type": "markdown",
   "metadata": {},
   "source": [
    "**articles_infos:** Array of object, with each object:\n",
    "```\n",
    "{\n",
    "  \"category\" : \"Actualité - Organisation - Exposition\", # Article category\n",
    "  \"date\" : \"2017-03-02\", # Article date\n",
    "  \"id\" : 0, # Unique\n",
    "  \"intro\" : \"Pour sa première édition,...\",  # The introduction of the article, as stated on the website\n",
    "  \"title\" : \"Exposition sur l'alphabet a ka u ku\",\n",
    "  \"last_update\" : Datetime.datetime.now(),\n",
    "}\n",
    "```\n",
    "\n",
    "**articles_html:** Array of string, with each string:\n",
    "```\n",
    "\"interesting html content of the page\"\n",
    "```"
   ]
  },
  {
   "cell_type": "markdown",
   "metadata": {},
   "source": [
    "Method to generate a json from the article:"
   ]
  },
  {
   "cell_type": "code",
   "execution_count": 8,
   "metadata": {
    "collapsed": false
   },
   "outputs": [],
   "source": [
    "articleCounter = 0\n",
    "articles_infos = []\n",
    "articles_html = []\n",
    "\n",
    "def generate_articles_json(article_url) :\n",
    "    global articleCounter\n",
    "    articleCounter += 1    \n",
    "    print(articleCounter, ' : ', article_url)\n",
    "    \n",
    "    # Getting article\n",
    "    article_html = requests.get(article_url)\n",
    "    soup = BeautifulSoup(article_html.content, 'html.parser')\n",
    "    \n",
    "    # Content\n",
    "    content = '<!DOCTYPE html><html lang=\"fr-FR\">{0}<body>{1}</body></html>'.format(soup.head, soup.section)\n",
    "    \n",
    "    # Category\n",
    "    category = soup.find('p', attrs={'class' : 'postmeta'}).text\n",
    "    \n",
    "    # Date\n",
    "    article_date = soup.find('time').attrs.get('datetime')\n",
    "    \n",
    "    # Intro\n",
    "    intro = soup.find('div', attrs={'class' : 'j-module n j-text '}).text\n",
    "    intro2 = intro.replace(\"\\n   \", \"\")\n",
    "    intro3 = intro2[1:len(intro2)-1]\n",
    "    \n",
    "    # Title\n",
    "    title = soup.find('h1', attrs={'class' : 'j-blog-header j-blog-headline'}).text\n",
    "    \n",
    "    # Article info\n",
    "    article_json = {\n",
    "            'category' : category,\n",
    "            'date' : article_date,\n",
    "            'id' : articleCounter,\n",
    "            'intro' : intro3,\n",
    "            'title' : title,\n",
    "            'last_update' : str(datetime.now().date())\n",
    "        }\n",
    "\n",
    "    articles_html.append(content)\n",
    "    articles_infos.append(article_json)"
   ]
  },
  {
   "cell_type": "markdown",
   "metadata": {},
   "source": [
    "Generate all articles and populates the arrays articles_infos and articles_html"
   ]
  },
  {
   "cell_type": "code",
   "execution_count": 9,
   "metadata": {
    "collapsed": false
   },
   "outputs": [
    {
     "name": "stdout",
     "output_type": "stream",
     "text": [
      "1  :  https://www.salonecriture.org/2017/03/02/application-pour-iphone-disponible/\n",
      "2  :  https://www.salonecriture.org/2017/02/27/sortie-d-une-application-mobile-android-pour-le-salon/\n",
      "3  :  https://www.salonecriture.org/2017/02/12/ghostwriter-écrivain-fantôme-prête-plume-qu-est-ce/\n",
      "4  :  https://www.salonecriture.org/2017/01/28/secrétaire-juridique-l-écriture-ce-vecteur-codé-et-procédural/\n",
      "5  :  https://www.salonecriture.org/2017/01/25/maître-marc-bonnant-à-l-honneur/\n",
      "6  :  https://www.salonecriture.org/2017/01/17/harmonie-keller-matthey-blogueuse-l-écriture-est-un-art-libérateur/\n",
      "7  :  https://www.salonecriture.org/2017/01/14/exposition-sur-l-alphabet-a-ka-u-ku/\n",
      "8  :  https://www.salonecriture.org/2017/01/11/rédacteur-technique-ou-l-art-de-la-vulgarisation/\n",
      "9  :  https://www.salonecriture.org/2017/01/07/qu-est-ce-qu-un-scriptorium/\n",
      "10  :  https://www.salonecriture.org/2016/12/20/quels-étaient-les-moyens-de-fabriquer-de-l-encre-noire-au-moyen-âge/\n",
      "11  :  https://www.salonecriture.org/2016/12/14/traducteur-de-l-art-de-transposer-sans-dénaturer/\n",
      "12  :  https://www.salonecriture.org/2016/12/09/de-la-lettre-manuscrite-au-sms/\n",
      "13  :  https://www.salonecriture.org/2016/12/04/quelle-écriture-était-utilisée-et-transmise-exclusivement-par-des-femmes/\n",
      "14  :  https://www.salonecriture.org/2016/11/29/papyrologue-éditeur-de-textes-anciens/\n",
      "15  :  https://www.salonecriture.org/2016/11/26/qu-est-ce-qu-un-alphabet-consonantique/\n",
      "16  :  https://www.salonecriture.org/2016/11/18/quel-est-le-mythe-à-l-origine-de-l-écriture-chinoise/\n",
      "17  :  https://www.salonecriture.org/2016/11/15/le-correcteur-au-coeur-des-mots/\n",
      "18  :  https://www.salonecriture.org/2016/11/09/que-reste-t-il-des-écrits-gaulois/\n",
      "19  :  https://www.salonecriture.org/2016/11/02/l-expertise-en-écritures-différencier-le-vrai-du-faux/\n",
      "20  :  https://www.salonecriture.org/2016/10/28/comment-fonctionne-l-alphabet-braille-et-comment-les-aveugles-peuvent-ils-lire-à-l-écran/\n"
     ]
    }
   ],
   "source": [
    "base_url = 'https://www.salonecriture.org'\n",
    "\n",
    "articleCounter = 0\n",
    "articles_infos = []\n",
    "articles_html = []\n",
    "\n",
    "for article_link in all_links:\n",
    "    generate_articles_json(base_url + article_link)"
   ]
  },
  {
   "cell_type": "markdown",
   "metadata": {},
   "source": [
    "## 3. Export data to json files"
   ]
  },
  {
   "cell_type": "markdown",
   "metadata": {},
   "source": [
    "Filenames:"
   ]
  },
  {
   "cell_type": "code",
   "execution_count": 10,
   "metadata": {
    "collapsed": false
   },
   "outputs": [],
   "source": [
    "nowStr = datetime.now().strftime(\"%Y-%m-%d_%Hh%Mmin%S\")\n",
    "\n",
    "exportPathInfos = os.path.join('export', 'articles_' +nowStr + '_infos.json')\n",
    "exportPathHtml = os.path.join('export', 'articles_' + nowStr + '_html.json')"
   ]
  },
  {
   "cell_type": "markdown",
   "metadata": {},
   "source": [
    "Export data:"
   ]
  },
  {
   "cell_type": "code",
   "execution_count": 11,
   "metadata": {
    "collapsed": false
   },
   "outputs": [],
   "source": [
    "with open(exportPathInfos, 'w') as f:\n",
    "        json.dump(articles_infos, f)"
   ]
  },
  {
   "cell_type": "code",
   "execution_count": 12,
   "metadata": {
    "collapsed": false
   },
   "outputs": [],
   "source": [
    "with open(exportPathHtml, 'w') as f:\n",
    "        json.dump(articles_html, f)"
   ]
  }
 ],
 "metadata": {
  "anaconda-cloud": {},
  "kernelspec": {
   "display_name": "Python [Root]",
   "language": "python",
   "name": "Python [Root]"
  },
  "language_info": {
   "codemirror_mode": {
    "name": "ipython",
    "version": 3
   },
   "file_extension": ".py",
   "mimetype": "text/x-python",
   "name": "python",
   "nbconvert_exporter": "python",
   "pygments_lexer": "ipython3",
   "version": "3.5.2"
  }
 },
 "nbformat": 4,
 "nbformat_minor": 0
}
